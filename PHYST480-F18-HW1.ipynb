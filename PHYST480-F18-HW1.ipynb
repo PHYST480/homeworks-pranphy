{
 "cells": [
  {
   "cell_type": "markdown",
   "metadata": {},
   "source": [
    "# Homework 1: Problems\n",
    "### PHYS T480/580, Fall 2018\n",
    "https://github.com/gtrichards/PHYS_T480_F18/\n",
    "\n",
    "\n",
    "## Problem 1\n",
    "\n",
    "Practice your git and github skills by submitting this homework via github:\n",
    "\n",
    "* Clone the class github repository to your computer, the one at https://github.com/gtrichards/PHYS_T480_F18/  (should already have done this).\n",
    "* Click the Github Classroom link you received via the mailing list. This will create a private github repository through which you'll be submitting your homeworks. Clone that repository to your computer.\n",
    "* Copy this notebook from the class github repository to your private homework submission repository. IMPORTANT: rename it to `<filename>-FirstLast.ipynb` once you copy it, where `<filename>` is the existing filename and `FirstLast` are your first and last name. Example: `PHYST480-F18-HW1-GordonRichards.ipynb`.\n",
    "* Solve problems #2, #3, and #4 by filling in the missing cells in the copied notebook.\n",
    "* Commit the notebook to your repository, and `git push` it upstream.\n",
    "\n",
    "\n",
    "## Problem 2\n",
    "Generate a sample of 10,000 data values drawn from N($\\mu$=1.0, $\\sigma$=0.2) and\n",
    "draw a pretty histogram, with the bin size determined using the Freedman-Diaconis\n",
    "rule. Show (Poissonian) uncertainty for each histogram value, and overplot the\n",
    "true distribution. \n",
    "\n",
    "## Problem 3\n",
    "Repeat the problem 2, but now add to the Gaussian sample (concatenate arrays with `np.concatenate()`) \n",
    "another sample of 10,000 data values drawn from a `cauchy` distribution with\n",
    "$\\mu=2.0$ and $\\gamma=0.5$. Do it twice: once with the bin size determined \n",
    "using the Freedman-Diaconis rule and once using the Scott's rule. Comment. \n",
    "\n",
    "\n",
    "## Problem 4\n",
    "Follow the example from the Central Limit Theorem cells in BasicStats2.ipynb and simulate the distribution of 1,000,000 $\\mathscr{N}(0,1)$ draws of $\\chi^2$ for `N=2` and `N=5`.  Overplot the theoretical pdf (it will help to use `scipy.special.gamma()`)."
   ]
  },
  {
   "cell_type": "markdown",
   "metadata": {},
   "source": [
    "### Some useful definitions and functions"
   ]
  },
  {
   "cell_type": "code",
   "execution_count": 1,
   "metadata": {},
   "outputs": [],
   "source": [
    "import numpy as np\n",
    "from matplotlib import pyplot as plt\n",
    "from scipy import optimize\n",
    "from scipy.stats import cauchy, norm\n",
    "from astroML.plotting import setup_text_plots\n",
    "from astroML.stats import sigmaG\n",
    "from astroML.plotting import hist as fancyhist\n",
    "setup_text_plots(fontsize=14, usetex=True)\n",
    "%matplotlib inline"
   ]
  },
  {
   "cell_type": "markdown",
   "metadata": {},
   "source": [
    "This astroML function adjusts matplotlib settings for a uniform feel in the \n",
    "textbook. Note that with `usetex=True`, fonts are rendered with $\\LaTeX$. This \n",
    "may result in an error if $\\LaTeX$ is not installed on your system.  In that \n",
    "case, you can set usetex to `False`."
   ]
  },
  {
   "cell_type": "markdown",
   "metadata": {},
   "source": [
    "## Begin solutions\n",
    "### Problem 2\n",
    "Generate a sample of 10,000 data values drawn from N($\\mu$=1.0, $\\sigma$=0.2) and\n",
    "draw a pretty histogram, with the bin size determined using the Freedman-Diaconis\n",
    "rule. Show (Poissonian) uncertainty for each histogram value, and overplot the\n",
    "true distribution. "
   ]
  },
  {
   "cell_type": "code",
   "execution_count": 30,
   "metadata": {},
   "outputs": [
    {
     "data": {
      "image/png": "[encoded data removed]",
      "text/plain": [
       "<Figure size 1440x288 with 1 Axes>"
      ]
     },
     "metadata": {
      "needs_background": "light"
     },
     "output_type": "display_data"
    }
   ],
   "source": [
    "import numpy as np\n",
    "import matplotlib.pyplot as plt\n",
    "import scipy as sp\n",
    "\n",
    "plt.rc('figure', figsize=(20.0, 4.0))\n",
    "\n",
    "sample_size = 10_000\n",
    "samples = sp.stats.norm(1,2).rvs(sample_size)\n",
    "\n",
    "#Or better yet\n",
    "q_25,q_75 = np.percentile(samples,[25,75])\n",
    "σ_G = 0.7413*(q_75-q_25) \n",
    "binsize = 2.7*σ_G/(len(samples)**(1/3))\n",
    "bins = np.append(np.arange(samples.min(),samples.max(),binsize),samples.max())\n",
    "\n",
    "___ = plt.hist(samples,bins,histtype='step',label='apple')\n",
    "___ = plt.legend()"
   ]
  }
 ],
 "metadata": {
  "anaconda-cloud": {},
  "kernelspec": {
   "display_name": "Python 3",
   "language": "python",
   "name": "python3"
  },
  "language_info": {
   "codemirror_mode": {
    "name": "ipython",
    "version": 3
   },
   "file_extension": ".py",
   "mimetype": "text/x-python",
   "name": "python",
   "nbconvert_exporter": "python",
   "pygments_lexer": "ipython3",
   "version": "3.7.0"
  }
 },
 "nbformat": 4,
 "nbformat_minor": 2
}
